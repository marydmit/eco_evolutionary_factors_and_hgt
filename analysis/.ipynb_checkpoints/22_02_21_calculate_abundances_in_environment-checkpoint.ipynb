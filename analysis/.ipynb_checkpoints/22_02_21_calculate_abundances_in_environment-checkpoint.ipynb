{
 "cells": [
  {
   "cell_type": "code",
   "execution_count": 16,
   "id": "68720396",
   "metadata": {},
   "outputs": [],
   "source": [
    "import glob\n",
    "import h5py\n",
    "from matplotlib import pyplot as plt\n",
    "import numpy as np\n",
    "import pandas as pd\n",
    "\n",
    "from scipy.sparse import csc_matrix, kronsum\n",
    "from scipy import stats\n",
    "\n",
    "from datetime import datetime\n",
    "\n",
    "from ete3 import Tree\n"
   ]
  },
  {
   "cell_type": "markdown",
   "id": "a5e4b03e",
   "metadata": {},
   "source": [
    "### Microbe Atlas Project Database Import"
   ]
  },
  {
   "cell_type": "code",
   "execution_count": 2,
   "id": "2b06a7d2",
   "metadata": {},
   "outputs": [],
   "source": [
    "# Function for importing sample data and metadata.\n",
    "def read_mapdb_h5(h5_path, otu_data=True, meta_data=True):\n",
    "    \"\"\"Example file: /mnt/mnemo3/janko/data/microbe_atlas/sruns-otus.97.otutable_plusMetaNoHeader_taxonomy_unmapped.h5\"\"\"\n",
    "    f = h5py.File(h5_path, 'r')\n",
    "    result_dict = {}\n",
    "    # read otu data\n",
    "    if otu_data:\n",
    "        data_handle = f[\"otu_table\"]\n",
    "        col_ptr, nzvals, rowindices, otu_index, sample_index = [np.array(data_handle[sub_key]) for sub_key in ['data_colptr', 'data_nzval', 'data_rowval', 'oids', 'sids']]\n",
    "        ## correct indexing (julia starts at 1)\n",
    "        col_ptr -= 1\n",
    "        rowindices -= 1\n",
    "        otutable_sparse = csc_matrix((nzvals,rowindices,col_ptr), shape=(data_handle[\"m\"][()],data_handle[\"n\"][()]))\n",
    "        result_dict[\"otu_data\"] = {\"otu_table\": otutable_sparse, \"otu_index\": otu_index, \"sample_index\": sample_index}\n",
    "    # read meta data\n",
    "    if meta_data:\n",
    "        meta_handle = f[\"meta_data\"]\n",
    "        result_dict[\"meta_data\"] = {sub_key: pd.DataFrame(np.array(meta_handle[sub_key]).T) for sub_key in meta_handle.keys()}\n",
    "    f.close()\n",
    "    return result_dict"
   ]
  },
  {
   "cell_type": "code",
   "execution_count": 3,
   "id": "3e965f39",
   "metadata": {},
   "outputs": [
    {
     "data": {
      "text/html": [
       "<div>\n",
       "<style scoped>\n",
       "    .dataframe tbody tr th:only-of-type {\n",
       "        vertical-align: middle;\n",
       "    }\n",
       "\n",
       "    .dataframe tbody tr th {\n",
       "        vertical-align: top;\n",
       "    }\n",
       "\n",
       "    .dataframe thead th {\n",
       "        text-align: right;\n",
       "    }\n",
       "</style>\n",
       "<table border=\"1\" class=\"dataframe\">\n",
       "  <thead>\n",
       "    <tr style=\"text-align: right;\">\n",
       "      <th></th>\n",
       "      <th>SampleID</th>\n",
       "      <th>EnvClean_merged</th>\n",
       "    </tr>\n",
       "  </thead>\n",
       "  <tbody>\n",
       "    <tr>\n",
       "      <th>0</th>\n",
       "      <td>ERR1554384.ERS1226365</td>\n",
       "      <td>animal</td>\n",
       "    </tr>\n",
       "    <tr>\n",
       "      <th>1</th>\n",
       "      <td>SRR413756.SRS295012</td>\n",
       "      <td>animal</td>\n",
       "    </tr>\n",
       "    <tr>\n",
       "      <th>2</th>\n",
       "      <td>SRR2062171.SRS957269</td>\n",
       "      <td>soil</td>\n",
       "    </tr>\n",
       "    <tr>\n",
       "      <th>3</th>\n",
       "      <td>ERR1458281.ERS1207161</td>\n",
       "      <td>aquatic</td>\n",
       "    </tr>\n",
       "    <tr>\n",
       "      <th>4</th>\n",
       "      <td>ERR494261.ERS450459</td>\n",
       "      <td>soil</td>\n",
       "    </tr>\n",
       "  </tbody>\n",
       "</table>\n",
       "</div>"
      ],
      "text/plain": [
       "                SampleID EnvClean_merged\n",
       "0  ERR1554384.ERS1226365          animal\n",
       "1    SRR413756.SRS295012          animal\n",
       "2   SRR2062171.SRS957269            soil\n",
       "3  ERR1458281.ERS1207161         aquatic\n",
       "4    ERR494261.ERS450459            soil"
      ]
     },
     "execution_count": 3,
     "metadata": {},
     "output_type": "execute_result"
    }
   ],
   "source": [
    "# Importing MAPdb sample data and metadata.\n",
    "mapdb_complete = read_mapdb_h5(\"/mnt/mnemo3/janko/data/microbe_atlas/hdf5/v0.2.2/metag_minfilter/samples-otus.97.metag.minfilter.remap.minCov90.noMulticell.h5\")\n",
    "\n",
    "# Importing environmental labels (after clean up has been done by Janko).\n",
    "environment_labels = pd.read_csv(\"/mnt/mnemo3/janko/projects/microbe_atlas/results/cleaned_metadata/environments/v0.2.1/metag_minfilter/otu_97_cleanedEnvs_bray_maxBray08_nproj10_20210224_merged.tsv\", sep = \"\\t\")\n",
    "environment_labels.head()"
   ]
  },
  {
   "cell_type": "code",
   "execution_count": 4,
   "id": "eef428a3",
   "metadata": {},
   "outputs": [],
   "source": [
    "# Before selecting rows and columns, need to convert all ids to strings.\n",
    "# Converting sample ids and OTU ids to strings.\n",
    "convert_to_string = np.vectorize(lambda x: x.decode(\"utf-8\"))\n",
    "mapdb_complete[\"otu_data\"][\"otu_index\"] = convert_to_string(mapdb_complete[\"otu_data\"][\"otu_index\"])\n",
    "mapdb_complete[\"otu_data\"][\"sample_index\"] = convert_to_string(mapdb_complete[\"otu_data\"][\"sample_index\"])"
   ]
  },
  {
   "cell_type": "code",
   "execution_count": 6,
   "id": "014b9c47",
   "metadata": {},
   "outputs": [
    {
     "name": "stdout",
     "output_type": "stream",
     "text": [
      "1039362\n",
      "1039362\n"
     ]
    }
   ],
   "source": [
    "reads_in_sample = mapdb_complete[\"otu_data\"][\"otu_table\"].sum(axis = 1)\n",
    "\n",
    "# Calculating the total number of OTUs detected in the sample.\n",
    "number_otus = csc_matrix(mapdb_complete[\"otu_data\"][\"otu_table\"] > 0, dtype = \"int32\").sum(axis = 1)\n",
    "\n",
    "# Determining which samples have at least 1000 reads and 20 OTUs.\n",
    "geq_1000_reads_20_otus = np.where((reads_in_sample >= 1000) & (number_otus >= 20))[0]\n",
    "print(len(mapdb_complete[\"otu_data\"][\"sample_index\"]))\n",
    "print(len(geq_1000_reads_20_otus))"
   ]
  },
  {
   "cell_type": "markdown",
   "id": "c212b261",
   "metadata": {},
   "source": [
    "### Importing OTU Mapping Table"
   ]
  },
  {
   "cell_type": "code",
   "execution_count": 26,
   "id": "1d2c87a0",
   "metadata": {},
   "outputs": [],
   "source": [
    "# Mapping between all specI clusters to OTUs.\n",
    "speci_to_otu_mapping = pd.read_csv(\"mapping_progenomes_v2.2_speci_clusters_to_mapref_v2.2b_OTUs.tsv\", sep = \"\\t\")\n",
    "\n",
    "# These are clusters that are not taxonomically coherent according to GTDB.\n",
    "problematic_clusters = [\"specI_v3_Cluster22\", \"specI_v3_Cluster2375\", \"specI_v3_Cluster4851\", \"specI_v3_Cluster5010\", \"specI_v3_Cluster5514\"]\n",
    "\n",
    "# To select OTUs for further analysis, we only consider specI clusters that went into the pipeline.\n",
    "speci_clusters_in_pipeline = Tree(\"species_tree_progenomes_v2.2_no_chimera_reps_only_mapping_to_otus.nwk\").get_leaf_names()\n",
    "speci_clusters_in_pipeline = [\"specI_v3_\" + x for x in speci_clusters_in_pipeline]\n",
    "speci_clusters_in_pipeline = [x for x in speci_clusters_in_pipeline if x not in problematic_clusters]\n",
    "\n",
    "# Now, selecting the OTUs that map to the corresponding specI clusters.\n",
    "otus_in_pipeline = speci_to_otu_mapping.loc[(speci_to_otu_mapping[\"speci_id\"].isin(speci_clusters_in_pipeline)) & (speci_to_otu_mapping[\"OTU97\"] != \"unmapped\"), \"OTU97\"].unique()\n",
    "\n",
    "# In MAPdb table, otus are written in short format - only the 97% identifier is present.\n",
    "otus_in_pipeline_short = [x[0] + x.split(\";\")[-1] for x in otus_in_pipeline]\n",
    "otus_in_pipeline = pd.Series(otus_in_pipeline)\n",
    "otus_in_pipeline.index = otus_in_pipeline_short"
   ]
  },
  {
   "cell_type": "code",
   "execution_count": 18,
   "id": "d835979e",
   "metadata": {},
   "outputs": [
    {
     "name": "stdout",
     "output_type": "stream",
     "text": [
      "  (3, 0)\t1.3082155939298796e-05\n",
      "  (18, 0)\t0.0002516862981979261\n",
      "  (20, 0)\t0.00015842839036755386\n",
      "  (26, 0)\t1.4346584795489434e-05\n",
      "  (28, 0)\t7.173343854237653e-05\n",
      "  (47, 0)\t3.207184092366902e-05\n",
      "  (53, 0)\t4.833019187086173e-05\n",
      "  (57, 0)\t2.6905829596412556e-05\n",
      "  (72, 0)\t1.688993552870324e-05\n",
      "  (81, 0)\t2.6836271905106942e-05\n",
      "  (82, 0)\t3.1208185907163446e-05\n",
      "  (88, 0)\t1.9508769191751692e-05\n",
      "  (125, 0)\t0.00011290504685559444\n",
      "  (131, 0)\t0.0003751250416805602\n",
      "  (154, 0)\t0.0005852593988691598\n",
      "  (179, 0)\t3.174401625293632e-05\n",
      "  (202, 0)\t0.00023768777334093934\n",
      "  (209, 0)\t4.7260095937994756e-05\n",
      "  (238, 0)\t1.4175951915171104e-05\n",
      "  (243, 0)\t0.00011921024821506817\n",
      "  (249, 0)\t4.989522003792037e-05\n",
      "  (251, 0)\t3.635438252081288e-05\n",
      "  (269, 0)\t2.532479043735913e-05\n",
      "  (279, 0)\t9.252234414611129e-05\n",
      "  (283, 0)\t8.26856292376385e-05\n",
      "  :\t:\n",
      "  (919604, 4374)\t4.998225629901385e-06\n",
      "  (972993, 4374)\t5.73921028466483e-05\n",
      "  (431238, 4375)\t7.853670412867454e-06\n",
      "  (618051, 4375)\t1.1461580781221346e-05\n",
      "  (845745, 4375)\t4.143463272341554e-06\n",
      "  (870938, 4375)\t1.5474740271959274e-07\n",
      "  (206563, 4376)\t2.3929118123459416e-07\n",
      "  (282195, 4376)\t0.0013397729188417027\n",
      "  (299459, 4376)\t0.0006824815027439771\n",
      "  (439815, 4376)\t0.00011088933244621867\n",
      "  (471904, 4376)\t0.005030653417918471\n",
      "  (594937, 4376)\t0.0010164479763444835\n",
      "  (748425, 4376)\t0.005266031040876448\n",
      "  (766938, 4376)\t9.342651070667812e-06\n",
      "  (768808, 4376)\t0.006229595307776226\n",
      "  (871376, 4376)\t0.0013313806417254693\n",
      "  (1026465, 4376)\t0.0018908584497361802\n",
      "  (459169, 4377)\t1.0199814363378586e-05\n",
      "  (582475, 4377)\t0.00010603891628227559\n",
      "  (819338, 4377)\t2.141740378231351e-05\n",
      "  (889645, 4377)\t2.2851136272751162e-05\n",
      "  (223858, 4378)\t0.0005885815185403178\n",
      "  (237885, 4378)\t0.002340655383507382\n",
      "  (172215, 4379)\t1.786033220217896e-05\n",
      "  (272284, 4379)\t1.7390195407829066e-05\n"
     ]
    }
   ],
   "source": [
    "# Selecting only rows corresponding to the OTUs that occur in the dataset.\n",
    "selected_otu_indices = np.isin(mapdb_complete[\"otu_data\"][\"otu_index\"], otus_in_pipeline_short)\n",
    "\n",
    "# Only selecting rows in table that correspond to selected OTUs.\n",
    "otu_table_selected = mapdb_complete[\"otu_data\"][\"otu_table\"][:, selected_otu_indices]\n",
    "\n",
    "# Dividing by total reads to calculate relative abundances.\n",
    "otu_table_rel_abundance = csc_matrix(otu_table_selected / reads_in_sample)\n",
    "print(otu_table_rel_abundance)"
   ]
  },
  {
   "cell_type": "code",
   "execution_count": 19,
   "id": "36eae469",
   "metadata": {},
   "outputs": [],
   "source": [
    "# Now, calculating average abundance in animal, aquatic, soil and plant samples.\n",
    "# First, checking if sample order is the same.\n",
    "environment_labels.index = environment_labels[\"SampleID\"]\n",
    "environment_labels_correct_order = environment_labels.loc[mapdb_complete[\"otu_data\"][\"sample_index\"], \"EnvClean_merged\"].values\n",
    "\n",
    "# Next, determining which samples where given which environmental label.\n",
    "animal_samples = environment_labels_correct_order == \"animal\"\n",
    "aquatic_samples = environment_labels_correct_order == \"aquatic\"\n",
    "plant_samples = environment_labels_correct_order == \"plant\"\n",
    "soil_samples = environment_labels_correct_order == \"soil\"\n",
    "\n",
    "# Calculating average relative abundance per environment.\n",
    "animal_avg_rel_abund = np.asarray(otu_table_rel_abundance[animal_samples].mean(axis = 0)).flatten()\n",
    "aquatic_avg_rel_abund = np.asarray(otu_table_rel_abundance[aquatic_samples].mean(axis = 0)).flatten()\n",
    "plant_avg_rel_abund = np.asarray(otu_table_rel_abundance[plant_samples].mean(axis = 0)).flatten()\n",
    "soil_avg_rel_abund = np.asarray(otu_table_rel_abundance[soil_samples].mean(axis = 0)).flatten()"
   ]
  },
  {
   "cell_type": "code",
   "execution_count": 27,
   "id": "7f7ad691",
   "metadata": {},
   "outputs": [],
   "source": [
    "# Saving tables for later reference.\n",
    "otus_in_transfer_matrix.index = otus_in_transfer_matrix_short\n",
    "data_average_abundance = pd.DataFrame({\"otu_id\": otus_in_pipeline[mapdb_complete[\"otu_data\"][\"otu_index\"][selected_otu_indices]],\n",
    "                                       \"animal\": animal_avg_rel_abund, \"aquatic\": aquatic_avg_rel_abund,\n",
    "                                       \"plant\": plant_avg_rel_abund, \"soil\": soil_avg_rel_abund})\n",
    "data_average_abundance.to_csv(\"OTU_average_abundance_by_environment.csv\", sep = \",\", index = False)"
   ]
  }
 ],
 "metadata": {
  "kernelspec": {
   "display_name": "Python 3",
   "language": "python",
   "name": "python3"
  },
  "language_info": {
   "codemirror_mode": {
    "name": "ipython",
    "version": 3
   },
   "file_extension": ".py",
   "mimetype": "text/x-python",
   "name": "python",
   "nbconvert_exporter": "python",
   "pygments_lexer": "ipython3",
   "version": "3.7.7"
  }
 },
 "nbformat": 4,
 "nbformat_minor": 5
}
